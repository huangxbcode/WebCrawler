{
 "cells": [
  {
   "cell_type": "markdown",
   "metadata": {},
   "source": [
    "<hr>\n",
    "# 第2讲-网络爬虫工具库(基础和工具)-II"
   ]
  },
  {
   "cell_type": "markdown",
   "metadata": {},
   "source": [
    "1. 基础Python爬虫库（urllib/Requests/bs4）\n",
    "2. 信息提取方法\n",
    "3. Selenium与PhantomJS工具\n",
    "4. 利用API进行数据采集"
   ]
  },
  {
   "cell_type": "markdown",
   "metadata": {},
   "source": [
    "## Selenium与PhantomJS工具(模拟用户浏览器行为)"
   ]
  },
  {
   "cell_type": "markdown",
   "metadata": {},
   "source": [
    "- Selenium与PhantomJS的安装：\n",
    "\n",
    "- pip install selenium\n",
    "- PhantomJS下载，安装，设置PATH\n",
    "- demo"
   ]
  },
  {
   "cell_type": "markdown",
   "metadata": {},
   "source": [
    "Selenium+PhantomJS\n",
    "\n",
    "Selenium：自动化web测试解决方案，完全模拟真实的浏览器环境，可以模拟所有的用户操作\n",
    "\n",
    "- Selenium也是一个用于Web应用程序测试的工具。Selenium测试直接运行在浏览器中，就像真正的用户在操作一样。\n",
    "- https://seleniumhq.github.io/selenium/docs/api/py/api.html\n",
    "\n",
    "PhantomJS ：一个没有图形界面的浏览器\n",
    "\n",
    "- PhantomJS是一个基于webkit的javascript API。它使用QtWebKit作为它核心浏览器的功能，使用webkit来编译解释执行JavaScript代码。任何你可以在基于webkit浏览器做的事情，它都能做到。它不仅是个隐形的浏览器，提供了诸如CSS选择器、支持Web标准、DOM操作、JSON、html5、Canvas、SVG等，同时也提供了处理文件I/O的操作，从而使你可以向操作系统读写文件等。PhantomJS的用处可谓非常广泛，诸如网络监测、网页截屏、无需浏览器的 Web 测试、页面访问自动化等。\n",
    "- http://phantomjs.org/download.html\n",
    "- phantomjs.exe文件路径加入环境变量"
   ]
  },
  {
   "cell_type": "markdown",
   "metadata": {},
   "source": [
    "<hr>"
   ]
  },
  {
   "cell_type": "markdown",
   "metadata": {},
   "source": [
    "JavaScript对于页面的操纵：\n",
    "\n",
    "demo\n",
    "\n",
    "baidu.com"
   ]
  },
  {
   "cell_type": "markdown",
   "metadata": {},
   "source": [
    "```javascript\n",
    "var container = document.getElementById('qrcode');\n",
    "container.remove();\n",
    "\n",
    "var buttons = document.getElementsByClassName('mnav');\n",
    "Button = buttons[0]\n",
    "Button.click();\n",
    "```"
   ]
  },
  {
   "cell_type": "markdown",
   "metadata": {
    "collapsed": true
   },
   "source": [
    "##### 利用Selenium + Chrome Driver模拟用户操作浏览器"
   ]
  },
  {
   "cell_type": "markdown",
   "metadata": {},
   "source": [
    "- chromedriver与chrome版本映射表：https://blog.csdn.net/huilan_same/article/details/51896672\n",
    "\n",
    "- chromedriver下载地址：http://chromedriver.storage.googleapis.com/index.html\n",
    "\n",
    "- chromedriver.exe文件路径加入环境变量"
   ]
  },
  {
   "cell_type": "code",
   "execution_count": null,
   "metadata": {},
   "outputs": [],
   "source": [
    "from selenium import webdriver\n",
    "\n",
    "browser = webdriver.Chrome()"
   ]
  },
  {
   "cell_type": "code",
   "execution_count": null,
   "metadata": {},
   "outputs": [],
   "source": [
    "browser.get('http://www.baidu.com/')"
   ]
  },
  {
   "cell_type": "code",
   "execution_count": null,
   "metadata": {},
   "outputs": [],
   "source": [
    "browser.find_element_by_link_text('新闻').click()"
   ]
  },
  {
   "cell_type": "code",
   "execution_count": null,
   "metadata": {},
   "outputs": [],
   "source": [
    "browser.quit()"
   ]
  },
  {
   "cell_type": "markdown",
   "metadata": {},
   "source": [
    "下面是利用PhantomJS："
   ]
  },
  {
   "cell_type": "code",
   "execution_count": null,
   "metadata": {},
   "outputs": [],
   "source": [
    "from selenium.webdriver.common.desired_capabilities import DesiredCapabilities\n",
    "from selenium.webdriver.common.keys import Keys\n",
    "\n",
    "dcap = dict(DesiredCapabilities.PHANTOMJS)  #设置userAgent\n",
    "\n",
    "dcap[\"phantomjs.page.settings.userAgent\"] = (\"Mozilla/5.0 (Macintosh; Intel Mac OS X 10.9; rv:25.0) Gecko/20100101 Firefox/25.0 \")\n",
    "\n",
    "# obj = webdriver.PhantomJS()\n",
    "obj = webdriver.PhantomJS(desired_capabilities=dcap)"
   ]
  },
  {
   "cell_type": "code",
   "execution_count": null,
   "metadata": {},
   "outputs": [],
   "source": [
    "obj.get('http://www.douban.com')"
   ]
  },
  {
   "cell_type": "code",
   "execution_count": null,
   "metadata": {},
   "outputs": [],
   "source": [
    "obj.save_screenshot('d1.png')"
   ]
  },
  {
   "cell_type": "code",
   "execution_count": null,
   "metadata": {},
   "outputs": [],
   "source": [
    "print(obj.page_source)"
   ]
  },
  {
   "cell_type": "code",
   "execution_count": null,
   "metadata": {},
   "outputs": [],
   "source": [
    "obj.get('http://www.baidu.com')\n",
    "obj.save_screenshot('d2.png')\n",
    "print(obj.find_element_by_id('kw').tag_name)"
   ]
  },
  {
   "cell_type": "code",
   "execution_count": null,
   "metadata": {},
   "outputs": [],
   "source": [
    "obj.maximize_window() \n",
    "obj.save_screenshot('d3.png')"
   ]
  },
  {
   "cell_type": "code",
   "execution_count": null,
   "metadata": {},
   "outputs": [],
   "source": [
    "obj.get('https://movie.douban.com/top250')\n",
    "obj.save_screenshot('d4.png')"
   ]
  },
  {
   "cell_type": "code",
   "execution_count": null,
   "metadata": {},
   "outputs": [],
   "source": [
    "obj.get('https://www.douban.com')\n",
    "obj.save_screenshot('d5.png')"
   ]
  },
  {
   "cell_type": "code",
   "execution_count": null,
   "metadata": {},
   "outputs": [],
   "source": [
    "obj.back()\n",
    "print(obj.find_element_by_id(\"db-nav-movie\").text)\n",
    "obj.save_screenshot('d6.png')"
   ]
  },
  {
   "cell_type": "markdown",
   "metadata": {},
   "source": [
    "tips：\n",
    "\n",
    "遇到NoSuchElementException的异常，可以考虑\n",
    "\n",
    "1. 是不是定位标签的代码写错\n",
    "2. 是不是页面还未加载完全就访问该元素\n",
    "3. 是不是连接timeout"
   ]
  },
  {
   "cell_type": "code",
   "execution_count": null,
   "metadata": {},
   "outputs": [],
   "source": [
    "# 关于user agent\n",
    "obj.get(\"https://httpbin.org/get\")\n",
    "obj.save_screenshot('d1.png')"
   ]
  },
  {
   "cell_type": "code",
   "execution_count": null,
   "metadata": {},
   "outputs": [],
   "source": [
    "obj.get('http://www.baidu.com')\n",
    "obj.save_screenshot('d1.png')"
   ]
  },
  {
   "cell_type": "code",
   "execution_count": null,
   "metadata": {},
   "outputs": [],
   "source": [
    "# 模拟搜索hello\n",
    "obj.find_element_by_id('kw').clear()              #用于清除输入框的内容\n",
    "obj.find_element_by_id('kw').send_keys('Hello')  #在输入框内输入Hello"
   ]
  },
  {
   "cell_type": "code",
   "execution_count": null,
   "metadata": {},
   "outputs": [],
   "source": [
    "# 不同时间的截图效果\n",
    "obj.save_screenshot('d2.png')"
   ]
  },
  {
   "cell_type": "code",
   "execution_count": null,
   "metadata": {},
   "outputs": [],
   "source": [
    "obj.find_element_by_id('su').click()              #用于点击按钮\n",
    "# obj.find_element_by_id('kw').send_keys(Keys.ENTER)"
   ]
  },
  {
   "cell_type": "code",
   "execution_count": null,
   "metadata": {},
   "outputs": [],
   "source": [
    "# 不同时间的截图效果\n",
    "obj.save_screenshot('d3.png')"
   ]
  },
  {
   "cell_type": "code",
   "execution_count": null,
   "metadata": {},
   "outputs": [],
   "source": [
    "# 注意退出\n",
    "obj.quit()"
   ]
  },
  {
   "cell_type": "markdown",
   "metadata": {},
   "source": [
    "---------"
   ]
  },
  {
   "cell_type": "markdown",
   "metadata": {},
   "source": [
    "- 爬取简书的例子"
   ]
  },
  {
   "cell_type": "markdown",
   "metadata": {},
   "source": [
    "点击“下一页”“更多”等按钮，进行异步加载"
   ]
  },
  {
   "cell_type": "code",
   "execution_count": null,
   "metadata": {},
   "outputs": [],
   "source": [
    "from bs4 import BeautifulSoup\n",
    "from selenium.webdriver.common.desired_capabilities import DesiredCapabilities\n",
    "from selenium import webdriver\n",
    "import time\n",
    "\n",
    "# dcap = dict(DesiredCapabilities.PHANTOMJS)  #设置userAgent\n",
    "\n",
    "# dcap[\"phantomjs.page.settings.userAgent\"] = (\"Mozilla/5.0 (Macintosh; Intel Mac OS X 10.9; rv:25.0) Gecko/20100101 Firefox/25.0 \")\n",
    "\n",
    "# obj = webdriver.PhantomJS(desired_capabilities=dcap)\n",
    "\n",
    "obj = webdriver.Chrome()\n",
    "\n",
    "obj.get('http://www.jianshu.com/')\n",
    "soup = BeautifulSoup(obj.page_source, 'lxml')\n",
    "for i in range(5):\n",
    "    for j in range(5):\n",
    "        obj.execute_script('window.scrollTo(0,document.body.scrollHeight)')\n",
    "        time.sleep(1)\n",
    "    elem = obj.find_element_by_class_name('load-more')\n",
    "    elem.click()\n",
    "    soup = BeautifulSoup(obj.page_source, 'lxml')\n",
    "    \n",
    "nicknames = soup.find_all('a', {'class': 'nickname'})\n",
    "nums = soup.find_all('span', {'class': 'time'})\n",
    "titles = soup.find_all('a', {'class': 'title'})\n",
    "abstracts = soup.find_all('p', {'class': 'abstract'})\n",
    "    \n",
    "for nickname, num, title, abstract in zip(nicknames, nums, titles, abstracts):\n",
    "    print(nickname.get_text(), num.get_text(), title.get_text(), abstract.get_text())"
   ]
  },
  {
   "cell_type": "code",
   "execution_count": null,
   "metadata": {},
   "outputs": [],
   "source": [
    "obj.quit()"
   ]
  },
  {
   "cell_type": "markdown",
   "metadata": {},
   "source": [
    "------"
   ]
  },
  {
   "cell_type": "markdown",
   "metadata": {},
   "source": [
    "- 模拟登录"
   ]
  },
  {
   "cell_type": "markdown",
   "metadata": {},
   "source": [
    "- http://my.csdn.net/my/mycsdn"
   ]
  },
  {
   "cell_type": "markdown",
   "metadata": {},
   "source": [
    "- 先查看访问的地址"
   ]
  },
  {
   "cell_type": "code",
   "execution_count": null,
   "metadata": {},
   "outputs": [],
   "source": [
    "import sys  \n",
    "from bs4 import BeautifulSoup\n",
    "from selenium.webdriver.common.desired_capabilities import DesiredCapabilities\n",
    "from selenium import webdriver\n",
    "import time\n",
    "\n",
    "# dcap = dict(DesiredCapabilities.PHANTOMJS)  #设置userAgent\n",
    "\n",
    "# dcap[\"phantomjs.page.settings.userAgent\"] = (\"Mozilla/5.0 (Macintosh; Intel Mac OS X 10.9; rv:25.0) Gecko/20100101 Firefox/25.0 \")\n",
    "\n",
    "# obj = webdriver.PhantomJS(desired_capabilities=dcap)\n",
    "\n",
    "obj = webdriver.Chrome()\n",
    "\n",
    "obj.get('https://passport.csdn.net/account/login')\n",
    "\n",
    "# print(obj.page_source)"
   ]
  },
  {
   "cell_type": "code",
   "execution_count": null,
   "metadata": {},
   "outputs": [],
   "source": [
    "obj.find_element_by_class_name(\"login-code__open\").click()"
   ]
  },
  {
   "cell_type": "code",
   "execution_count": null,
   "metadata": {},
   "outputs": [],
   "source": [
    "user = obj.find_element_by_xpath('//*[@id=\"username\"]')\n",
    "# user.send_keys('你的登录名或者邮箱') \n",
    "user.send_keys('13646224205')\n",
    "pwd = obj.find_element_by_xpath('//*[@id=\"password\"]')  \n",
    "# pwd.send_keys('你的密码')  \n",
    "pwd.send_keys('test123')"
   ]
  },
  {
   "cell_type": "code",
   "execution_count": null,
   "metadata": {},
   "outputs": [],
   "source": [
    "sub = obj.find_element_by_xpath('//*[@class=\"logging\"]')\n",
    "sub.click()\n",
    "\n",
    "# print(obj.page_source)\n",
    "# obj.save_screenshot('csdn.png')"
   ]
  },
  {
   "cell_type": "code",
   "execution_count": null,
   "metadata": {},
   "outputs": [],
   "source": [
    "obj.quit()"
   ]
  },
  {
   "cell_type": "markdown",
   "metadata": {},
   "source": [
    "------"
   ]
  },
  {
   "cell_type": "markdown",
   "metadata": {},
   "source": [
    "##### 练习：爬取虎牙直播前10页字段信息(http://www.huya.com/l)"
   ]
  }
 ],
 "metadata": {
  "kernelspec": {
   "display_name": "Python 3",
   "language": "python",
   "name": "python3"
  },
  "language_info": {
   "codemirror_mode": {
    "name": "ipython",
    "version": 3
   },
   "file_extension": ".py",
   "mimetype": "text/x-python",
   "name": "python",
   "nbconvert_exporter": "python",
   "pygments_lexer": "ipython3",
   "version": "3.6.4"
  }
 },
 "nbformat": 4,
 "nbformat_minor": 2
}
