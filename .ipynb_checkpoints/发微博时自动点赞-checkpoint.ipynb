{
 "cells": [
  {
   "cell_type": "markdown",
   "metadata": {},
   "source": [
    "当你心中的微博女神发新微博时，自动点赞。"
   ]
  },
  {
   "cell_type": "markdown",
   "metadata": {},
   "source": [
    "# 查看提示\n",
    "\n",
    "•\t问题拆解提示\n",
    "\n",
    "•\t该问题可以拆解为以下若干子问题：\n",
    "\n",
    "•\t1.如何访问该用户的页面？\n",
    "\n",
    "•\t2.如何发现未点赞的微博？\n",
    "\n",
    "•\t3.如何自动点击按钮？\n",
    "\n",
    "•\t4.如何持续监测？\n",
    "\n",
    "•\t问题解决提示\n",
    "\n",
    "•\t1.利用 selenium 库中的 webdriver，先访问微博的登录页面，手动登录，然后再访问某特定用户的微博主页。\n",
    "\n",
    "•\t2.将微博的时间标签当作一条微博的唯一标识，将点赞过的微博存入 list 中，如果一条新的时间标签不在 list 中，则说明需要点赞。\n",
    "\n",
    "•\t3.利用 click 函数，实现模拟点击。\n",
    "\n",
    "•\t4.利用 while True 实现持续监测。\n",
    "\n",
    "•\t注：由于微博的限制，点赞过快可能会导致页面变化，引起程序崩溃。建议点赞间隔设置的长一些。\n"
   ]
  },
  {
   "cell_type": "markdown",
   "metadata": {},
   "source": [
    "# 查看答案"
   ]
  },
  {
   "cell_type": "code",
   "execution_count": null,
   "metadata": {},
   "outputs": [],
   "source": [
    "# coding:utf-8\n",
    "import time\n",
    "import selenium\n",
    "from selenium import webdriver\n",
    "from selenium.webdriver.common.keys import Keys\n",
    "# 打开Chrome浏览器\n",
    "def start_chrome():\n",
    "    # windows系统下，executable_path='./chromedriver.exe'\n",
    "    driver = webdriver.Chrome(executable_path='./chromedriver')\n",
    "    driver = webdriver.Chrome()\n",
    "    driver.start_client()\n",
    "    driver.set_window_size(1500, 1500)\n",
    "    return driver\n",
    "# 打开登录界面\n",
    "def login(driver, url):\n",
    "    driver.get(url)\n",
    "    time.sleep(25)\n",
    "# 点赞函数\n",
    "def click_like(driver, url, have_clicked):\n",
    "    driver.get(url)\n",
    "    # 等待页面加载\n",
    "    time.sleep(6)\n",
    "    # 获取每条微博的div标签\n",
    "    weibo_sel = '#Pl_Official_MyProfileFeed__21 > div > div'\n",
    "    weibo_elems = driver.find_elements_by_css_selector(weibo_sel)\n",
    "    for w in weibo_elems:\n",
    "        # 获取一条微博的时间\n",
    "        time_sel = 'div.WB_feed_detail > div.WB_detail > div.WB_from.S_txt2 > a:nth-child(1)'\n",
    "        weibo_time = w.find_elements_by_css_selector(time_sel)\n",
    "        # 由于页面结构的原因，有的标签中没有时间信息，所以此处加了一个条件判断\n",
    "        if len(weibo_time) == 1:\n",
    "            weibo_time = weibo_time[0].text\n",
    "        if weibo_time not in have_clicked:\n",
    "            button_sel = 'div.WB_feed_handle > div > ul > li:nth-child(4) > a > span > span > span'\n",
    "            button = w.find_elements_by_css_selector(button_sel)\n",
    "            # 同样由于页面结构的原因，此处加了一个条件判断\n",
    "            if len(button) == 1:\n",
    "                button = button[0]\n",
    "                # 微博页面上的“私信聊天”按钮，有时候会挡住点赞按钮，遇到这个问题的时候，\n",
    "                # 我们先捕获异常，然后利用“下方向键”让页面自动滚动一点点，露出点赞按钮\n",
    "                try:\n",
    "                    button.click()\n",
    "                except Exception:\n",
    "                    html_page = driver.find_element_by_tag_name('html')\n",
    "                    html_page.send_keys(Keys.DOWN)\n",
    "                    button.click()\n",
    "                have_clicked.append(weibo_time)\n",
    "                # 微博的点赞速度过快会弹出提醒，所以时间间隔设置的长一点\n",
    "                time.sleep(5)\n",
    "\n",
    "\n",
    "\n",
    "login_url = 'https://weibo.com/'\n",
    "weibo_url = 'https://weibo.com/bgsxy'\n",
    "# 用时间做标识，来判断一条微博是否点赞过\n",
    "have_clicked = []\n",
    "driver = start_chrome()\n",
    "login(driver, login_url)\n",
    "while True:\n",
    "    have_clicked = click_like(driver, weibo_url, have_clicked)\n",
    "    time.sleep(1200)\n"
   ]
  }
 ],
 "metadata": {
  "kernelspec": {
   "display_name": "Python 3",
   "language": "python",
   "name": "python3"
  },
  "language_info": {
   "codemirror_mode": {
    "name": "ipython",
    "version": 3
   },
   "file_extension": ".py",
   "mimetype": "text/x-python",
   "name": "python",
   "nbconvert_exporter": "python",
   "pygments_lexer": "ipython3",
   "version": "3.6.4"
  }
 },
 "nbformat": 4,
 "nbformat_minor": 2
}
