{
 "cells": [
  {
   "cell_type": "markdown",
   "metadata": {},
   "source": [
    "Kenneth Reitz 是 Python 领域的大神级人物，并且在 Github 上非常活跃，他的 Github 地址是：https://github.com/kennethreitz \n",
    "试着用所学知识去发现 Kenneth 今天 Starred 了哪些库，并且自动在浏览器中打开这些库的地址。\n"
   ]
  },
  {
   "cell_type": "markdown",
   "metadata": {},
   "source": [
    "查看提示"
   ]
  },
  {
   "cell_type": "markdown",
   "metadata": {},
   "source": [
    "•\t问题拆解提示：\n",
    "\n",
    "•\t本问题可以拆解为以下若干子问题： \n",
    "\n",
    "•\t1.如何获取指定用户所star的项目？ \n",
    "\n",
    "•\t2.如何判断新的项目出现？\n",
    "\n",
    "•\t3.如何打开网页？\n",
    "\n",
    "•\t4.如何保持程序每隔一段时间进行监测？\n",
    "\n",
    "•\t问题解决提示：\n",
    "\n",
    "•\t1.通过GitHub提供的api，获取指定用户所star的所有项目，并转换为json数据。然后，将其中的id字段都提取出来，存入list变量。该变量即为用户已经star的项目的列表。api的调用格式为：https://api.github.com/users/kennethreitz/starred，其中kennethreitz是用户名，是可变参数。\n",
    "\n",
    "•\t2.重复1中的步骤，然后对比list变量和刚刚抓取的数据，如果项目id不在list变量中，说明该项目是新出现的。\n",
    "\n",
    "•\t3.利用webbrowser模块，其中的open函数可以控制浏览器打开一个指定的页面。\n",
    "\n",
    "•\t4.while True语句是一个死循环，即为一个可以无限循环下去的语句，该语句可以控制程序一直运行。time模块中的sleep函数，可以让程序休眠一段时间，从而达到了每隔一段时间再运行的效果。\n"
   ]
  },
  {
   "cell_type": "markdown",
   "metadata": {},
   "source": [
    "查看答案"
   ]
  },
  {
   "cell_type": "code",
   "execution_count": null,
   "metadata": {},
   "outputs": [],
   "source": [
    "# coding:utf-8\n",
    "import requests\n",
    "import webbrowser\n",
    "import time\n",
    "# api指定了follow的这个人star的所有项目，该用户是kennethreitz\n",
    "api = \"https://api.github.com/users/kennethreitz/starred\"\n",
    "# 先访问一次api，获取star列表\n",
    "info = requests.get(api).json()\n",
    "starred = []\n",
    "# 将star列表中的项目id存到list变量中\n",
    "for i in info:\n",
    "    starred.append(i['id'])\n",
    "\n",
    "while True:\n",
    "    # 获取star的项目\n",
    "    info = requests.get(api).json()\n",
    "    for i in info:\n",
    "        # 如果当前项目id在list变量中不存在，则说明是刚刚star的项目\n",
    "        if not i['id'] in starred:\n",
    "            starred.append(i['id'])\n",
    "            # 获取项目名称\n",
    "            repo_name = i['name']\n",
    "            # 获取作者名称\n",
    "            owner = i['owner']['login']\n",
    "            # 在浏览器中打开项目\n",
    "            web_page = \"https://github.com/\" + owner + \"/\" + repo_name\n",
    "            webbrowser.open(web_page)\n",
    "    # 每隔600秒（10分钟）检查一次\n",
    "    time.sleep(600)"
   ]
  }
 ],
 "metadata": {
  "kernelspec": {
   "display_name": "Python 3",
   "language": "python",
   "name": "python3"
  },
  "language_info": {
   "codemirror_mode": {
    "name": "ipython",
    "version": 3
   },
   "file_extension": ".py",
   "mimetype": "text/x-python",
   "name": "python",
   "nbconvert_exporter": "python",
   "pygments_lexer": "ipython3",
   "version": "3.6.4"
  }
 },
 "nbformat": 4,
 "nbformat_minor": 2
}
